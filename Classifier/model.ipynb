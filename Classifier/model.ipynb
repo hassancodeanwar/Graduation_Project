import os
import glob
import numpy as np
import pandas as pd
from PIL import Image
from tensorflow.keras.preprocessing.image import ImageDataGenerator

# Constants
DATA_DIR = '/kaggle/input/isic-2019-skin-lesion-images-for-classification/'
AUGMENTED_DIR = '/kaggle/working/augmented_images/'

# Create output directory for augmented images
os.makedirs(AUGMENTED_DIR, exist_ok=True)

# Image Data Augmentation setup
datagen = ImageDataGenerator(
    rotation_range=40,
    width_shift_range=0.2,
    height_shift_range=0.2,
    shear_range=0.2,
    zoom_range=0.2,
    horizontal_flip=True,
    fill_mode='nearest'
)

def load_dataset(data_dir):
    filepaths = glob.glob(os.path.join(data_dir, '*', '*'))
    labels = [os.path.basename(os.path.dirname(fp)) for fp in filepaths]
    return pd.DataFrame({'filepaths': filepaths, 'labels': labels})

def augment_images(data_dir, output_dir, samples_per_class=10000, img_size=(224, 224)):
    """
    Augments images to balance the dataset and saves augmented images.
    
    Parameters:
        data_dir (str): Path to the original dataset.
        output_dir (str): Path to save the augmented dataset.
        samples_per_class (int): Number of samples per class to generate.
        img_size (tuple): Target size for the images.
    """
    df = load_dataset(data_dir)
    print("Original dataset distribution:")
    print(df['labels'].value_counts())

    # Perform augmentation
    for label in df['labels'].unique():
        label_dir = os.path.join(output_dir, label)
        os.makedirs(label_dir, exist_ok=True)
        class_df = df[df['labels'] == label]

        if len(class_df) >= samples_per_class:
            continue  # Skip classes that already meet the target sample count

        needed_samples = samples_per_class - len(class_df)
        for filepath in class_df['filepaths']:
            img = Image.open(filepath).resize(img_size)
            x = np.expand_dims(np.array(img), axis=0)

            for i, _ in enumerate(datagen.flow(x, batch_size=1, save_to_dir=label_dir, save_prefix='aug', save_format='jpeg')):
                if i >= needed_samples / len(class_df):
                    break

    print(f"Augmented images saved to: {output_dir}")

if __name__ == "__main__":
    augment_images(DATA_DIR, AUGMENTED_DIR, samples_per_class=7500)
